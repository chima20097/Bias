{
 "cells": [
  {
   "cell_type": "code",
   "execution_count": 1,
   "metadata": {},
   "outputs": [],
   "source": [
    "import os\n",
    "import copy\n",
    "import keras\n",
    "import matplotlib.image as mpimg\n",
    "import matplotlib.pyplot as plt\n",
    "import numpy as np\n",
    "import pandas as pd\n",
    "import seaborn as sns\n",
    "import tensorflow as tf\n",
    "from keras.preprocessing.image import ImageDataGenerator\n",
    "from PIL import ImageFile\n",
    "from random import sample\n",
    "from random import seed\n",
    "from sklearn.metrics import roc_auc_score"
   ]
  },
  {
   "cell_type": "code",
   "execution_count": 2,
   "metadata": {},
   "outputs": [],
   "source": [
    "# fix error with truncated image files\n",
    "ImageFile.LOAD_TRUNCATED_IMAGES = True"
   ]
  },
  {
   "cell_type": "code",
   "execution_count": 3,
   "metadata": {},
   "outputs": [],
   "source": [
    "test_df = pd.read_csv('/home/jupyter-chima/data/correa/test_censored_bmi.csv')"
   ]
  },
  {
   "cell_type": "code",
   "execution_count": 4,
   "metadata": {},
   "outputs": [],
   "source": [
    "test_df = test_df[test_df.Race.isin(['ASIAN','BLACK/AFRICAN AMERICAN','WHITE'])]"
   ]
  },
  {
   "cell_type": "code",
   "execution_count": 5,
   "metadata": {},
   "outputs": [],
   "source": [
    "test_df.hiti_path = test_df.hiti_path.astype(str)"
   ]
  },
  {
   "cell_type": "code",
   "execution_count": 6,
   "metadata": {},
   "outputs": [],
   "source": [
    "test_df = test_df[~test_df.hiti_path.str.contains('406e0996e5f1cf082487d7d096574d10b46c0c52710222a4884db1cc|dd97e997cc2a4166dc6e192cb62e29553aa28f4671d98c9577e32cfd|6224290209c45bb2b3e07b3b3a27778d1d10f7953567b3c59158e099')]"
   ]
  },
  {
   "cell_type": "code",
   "execution_count": 7,
   "metadata": {},
   "outputs": [
    {
     "data": {
      "text/plain": [
       "5669"
      ]
     },
     "execution_count": 7,
     "metadata": {},
     "output_type": "execute_result"
    }
   ],
   "source": [
    "test_df['bmi_cat'].isnull().sum() # number of bmi entried that do not have a value"
   ]
  },
  {
   "cell_type": "code",
   "execution_count": 8,
   "metadata": {},
   "outputs": [],
   "source": [
    "test_df = test_df[test_df['bmi_cat'].notna()] # drop rows without a bmi category"
   ]
  },
  {
   "cell_type": "code",
   "execution_count": 9,
   "metadata": {},
   "outputs": [
    {
     "data": {
      "text/plain": [
       "True"
      ]
     },
     "execution_count": 9,
     "metadata": {},
     "output_type": "execute_result"
    }
   ],
   "source": [
    "test_df['bmi_cat'].isna().sum() == 0"
   ]
  },
  {
   "cell_type": "code",
   "execution_count": 10,
   "metadata": {},
   "outputs": [],
   "source": [
    "test_df = test_df[~test_df.bmi_cat.str.contains('UNKNOWN')] # remove the entry where BMI is unknown"
   ]
  },
  {
   "cell_type": "code",
   "execution_count": 11,
   "metadata": {},
   "outputs": [
    {
     "data": {
      "text/plain": [
       "obese          2326\n",
       "overweight     1906\n",
       "normal         1675\n",
       "underweight     255\n",
       "Name: bmi_cat, dtype: int64"
      ]
     },
     "execution_count": 11,
     "metadata": {},
     "output_type": "execute_result"
    }
   ],
   "source": [
    "test_df.bmi_cat.value_counts()"
   ]
  },
  {
   "cell_type": "code",
   "execution_count": 12,
   "metadata": {},
   "outputs": [
    {
     "data": {
      "text/plain": [
       "BLACK/AFRICAN AMERICAN    3061\n",
       "WHITE                     2865\n",
       "ASIAN                      236\n",
       "Name: Race, dtype: int64"
      ]
     },
     "execution_count": 12,
     "metadata": {},
     "output_type": "execute_result"
    }
   ],
   "source": [
    "test_df.Race.value_counts()"
   ]
  },
  {
   "cell_type": "code",
   "execution_count": 13,
   "metadata": {},
   "outputs": [],
   "source": [
    "IMAGE_WIDTH, IMAGE_HEIGHT = (224, 224)\n",
    "EPOCHS = 20\n",
    "BATCH_SIZE = 256\n",
    "learning_rate = 1e-3\n",
    "decay_val= 0.0 \n",
    "image_shape = (IMAGE_HEIGHT, IMAGE_WIDTH, 3)"
   ]
  },
  {
   "cell_type": "code",
   "execution_count": 14,
   "metadata": {},
   "outputs": [],
   "source": [
    "validate_gen = ImageDataGenerator()"
   ]
  },
  {
   "cell_type": "code",
   "execution_count": 15,
   "metadata": {},
   "outputs": [
    {
     "data": {
      "text/plain": [
       "['ASIAN', 'BLACK/AFRICAN AMERICAN', 'WHITE']"
      ]
     },
     "execution_count": 15,
     "metadata": {},
     "output_type": "execute_result"
    }
   ],
   "source": [
    "# see the class names\n",
    "class_names = test_df.Race.value_counts().index.tolist()\n",
    "class_names.sort()\n",
    "class_names"
   ]
  },
  {
   "cell_type": "code",
   "execution_count": 16,
   "metadata": {},
   "outputs": [],
   "source": [
    "model = keras.models.load_model('/home/jupyter-chima/Bias/Emory_CXR/Three_classes/EfficientNet/Emory_CXR_three_classes_EfficientNet.h5')"
   ]
  },
  {
   "cell_type": "code",
   "execution_count": 17,
   "metadata": {},
   "outputs": [
    {
     "name": "stdout",
     "output_type": "stream",
     "text": [
      "Model: \"functional_1\"\n",
      "_________________________________________________________________\n",
      "Layer (type)                 Output Shape              Param #   \n",
      "=================================================================\n",
      "input_2 (InputLayer)         [(None, 224, 224, 3)]     0         \n",
      "_________________________________________________________________\n",
      "efficientnetb0 (Functional)  (None, 7, 7, 1280)        4049571   \n",
      "_________________________________________________________________\n",
      "global_average_pooling2d (Gl (None, 1280)              0         \n",
      "_________________________________________________________________\n",
      "dense_logits (Dense)         (None, 3)                 3843      \n",
      "_________________________________________________________________\n",
      "predictions (Activation)     (None, 3)                 0         \n",
      "=================================================================\n",
      "Total params: 4,053,414\n",
      "Trainable params: 4,011,391\n",
      "Non-trainable params: 42,023\n",
      "_________________________________________________________________\n"
     ]
    }
   ],
   "source": [
    "model.summary()"
   ]
  },
  {
   "cell_type": "code",
   "execution_count": 18,
   "metadata": {},
   "outputs": [
    {
     "name": "stdout",
     "output_type": "stream",
     "text": [
      "Found 6162 validated image filenames belonging to 3 classes.\n"
     ]
    }
   ],
   "source": [
    "test_batches=validate_gen.flow_from_dataframe(\n",
    "    test_df,\n",
    "    x_col=\"hiti_path\", \n",
    "    y_col=\"Race\", \n",
    "    class_mode=\"categorical\",\n",
    "    target_size=(IMAGE_HEIGHT, IMAGE_WIDTH),\n",
    "    shuffle=False,\n",
    "    batch_size=BATCH_SIZE, \n",
    "    dtype='float32'\n",
    ")"
   ]
  },
  {
   "cell_type": "code",
   "execution_count": 19,
   "metadata": {},
   "outputs": [],
   "source": [
    "predictions = model.predict(test_batches, len(test_batches.filenames)) "
   ]
  },
  {
   "cell_type": "code",
   "execution_count": 20,
   "metadata": {},
   "outputs": [],
   "source": [
    "y_hat = np.argmax(predictions, axis=1)\n",
    "y_hat = list(y_hat)"
   ]
  },
  {
   "cell_type": "code",
   "execution_count": 21,
   "metadata": {},
   "outputs": [
    {
     "name": "stdout",
     "output_type": "stream",
     "text": [
      "Confusion Matrix\n",
      "[[  98   14  124]\n",
      " [  25 2833  203]\n",
      " [  30   57 2778]]\n",
      "Classification Report\n",
      "                        precision    recall  f1-score   support\n",
      "\n",
      "                 ASIAN       0.64      0.42      0.50       236\n",
      "BLACK/AFRICAN AMERICAN       0.98      0.93      0.95      3061\n",
      "                 WHITE       0.89      0.97      0.93      2865\n",
      "\n",
      "              accuracy                           0.93      6162\n",
      "             macro avg       0.84      0.77      0.79      6162\n",
      "          weighted avg       0.93      0.93      0.92      6162\n",
      "\n"
     ]
    }
   ],
   "source": [
    "# building the confusion matrix\n",
    "\n",
    "from sklearn.metrics import classification_report, confusion_matrix\n",
    "print('Confusion Matrix')\n",
    "matrix = confusion_matrix(test_batches.classes, y_hat)\n",
    "print(matrix)\n",
    "print('Classification Report')\n",
    "# batches are made in alphabetical order if shuffle is false\n",
    "print(classification_report(test_batches.classes, y_hat, target_names=class_names,  zero_division = 0)) "
   ]
  },
  {
   "cell_type": "code",
   "execution_count": 22,
   "metadata": {},
   "outputs": [
    {
     "data": {
      "text/plain": [
       "[Text(0.5, 0, 'ASIAN'),\n",
       " Text(1.5, 0, 'BLACK/AFRICAN AMERICAN'),\n",
       " Text(2.5, 0, 'WHITE')]"
      ]
     },
     "execution_count": 22,
     "metadata": {},
     "output_type": "execute_result"
    },
    {
     "data": {
      "image/png": "[encoded data removed]",
      "text/plain": [
       "<Figure size 432x288 with 2 Axes>"
      ]
     },
     "metadata": {
      "needs_background": "light"
     },
     "output_type": "display_data"
    }
   ],
   "source": [
    "heatmap = sns.heatmap(matrix, annot=True, cmap=\"Blues\", fmt=\"d\", xticklabels=class_names, yticklabels=class_names);\n",
    "heatmap.set_yticklabels(heatmap.get_yticklabels(), rotation=0) \n",
    "heatmap.set_xticklabels(heatmap.get_xticklabels(), rotation=90)"
   ]
  },
  {
   "cell_type": "code",
   "execution_count": 23,
   "metadata": {},
   "outputs": [],
   "source": [
    "from keras.utils.np_utils import to_categorical   \n",
    "\n",
    "y_actual_categorical = to_categorical(test_batches.classes, num_classes=3)"
   ]
  },
  {
   "cell_type": "code",
   "execution_count": 24,
   "metadata": {},
   "outputs": [],
   "source": [
    "# compute ROC curve and ROC area for each class\n",
    "from sklearn.metrics import roc_curve, auc\n",
    "\n",
    "fpr = dict()\n",
    "tpr = dict()\n",
    "roc_auc = dict()\n",
    "for i in range(len(class_names)):\n",
    "    fpr[i], tpr[i], _ = roc_curve(y_actual_categorical[:, i], predictions[:, i])\n",
    "    roc_auc[class_names[i]] = auc(fpr[i], tpr[i])"
   ]
  },
  {
   "cell_type": "code",
   "execution_count": 25,
   "metadata": {},
   "outputs": [
    {
     "data": {
      "text/plain": [
       "{'ASIAN': 0.9442767293798658,\n",
       " 'BLACK/AFRICAN AMERICAN': 0.9878595611684211,\n",
       " 'WHITE': 0.9815127295902298}"
      ]
     },
     "execution_count": 25,
     "metadata": {},
     "output_type": "execute_result"
    }
   ],
   "source": [
    "roc_auc"
   ]
  },
  {
   "cell_type": "code",
   "execution_count": 26,
   "metadata": {},
   "outputs": [],
   "source": [
    "# add the predictions to the data_frame\n",
    "test_df[\"Model predictions\"] = y_hat\n",
    "test_df[\"Actual predictions\"]= test_batches.classes"
   ]
  },
  {
   "cell_type": "code",
   "execution_count": 27,
   "metadata": {},
   "outputs": [
    {
     "data": {
      "text/plain": [
       "['obese', 'overweight', 'normal', 'underweight']"
      ]
     },
     "execution_count": 27,
     "metadata": {},
     "output_type": "execute_result"
    }
   ],
   "source": [
    "bmi_categories = test_df.bmi_cat.value_counts().index.tolist()\n",
    "bmi_categories"
   ]
  },
  {
   "cell_type": "code",
   "execution_count": 28,
   "metadata": {},
   "outputs": [],
   "source": [
    "one = test_df[test_df[\"bmi_cat\"] == \"obese\"]\n",
    "two = test_df[test_df[\"bmi_cat\"] == \"overweight\"]\n",
    "three = test_df[test_df[\"bmi_cat\"] == \"normal\"]\n",
    "four = test_df[test_df[\"bmi_cat\"] == \"underweight\"]\n",
    "subgroups = [one, two, three, four]"
   ]
  },
  {
   "cell_type": "code",
   "execution_count": 29,
   "metadata": {},
   "outputs": [
    {
     "name": "stdout",
     "output_type": "stream",
     "text": [
      "Classification Report: obese\n",
      "                        precision    recall  f1-score   support\n",
      "\n",
      "                 ASIAN       0.33      0.21      0.26        28\n",
      "BLACK/AFRICAN AMERICAN       0.98      0.94      0.96      1347\n",
      "                 WHITE       0.91      0.98      0.94       951\n",
      "\n",
      "              accuracy                           0.95      2326\n",
      "             macro avg       0.74      0.71      0.72      2326\n",
      "          weighted avg       0.95      0.95      0.95      2326\n",
      "\n",
      "Classification Report: overweight\n",
      "                        precision    recall  f1-score   support\n",
      "\n",
      "                 ASIAN       0.65      0.41      0.50        83\n",
      "BLACK/AFRICAN AMERICAN       0.97      0.93      0.95       896\n",
      "                 WHITE       0.90      0.97      0.93       927\n",
      "\n",
      "              accuracy                           0.92      1906\n",
      "             macro avg       0.84      0.77      0.79      1906\n",
      "          weighted avg       0.92      0.92      0.92      1906\n",
      "\n",
      "Classification Report: normal\n",
      "                        precision    recall  f1-score   support\n",
      "\n",
      "                 ASIAN       0.73      0.48      0.58       111\n",
      "BLACK/AFRICAN AMERICAN       0.97      0.90      0.94       690\n",
      "                 WHITE       0.89      0.97      0.93       874\n",
      "\n",
      "              accuracy                           0.91      1675\n",
      "             macro avg       0.86      0.79      0.81      1675\n",
      "          weighted avg       0.91      0.91      0.91      1675\n",
      "\n",
      "Classification Report: underweight\n",
      "                        precision    recall  f1-score   support\n",
      "\n",
      "                 ASIAN       0.50      0.36      0.42        14\n",
      "BLACK/AFRICAN AMERICAN       0.94      0.84      0.89       128\n",
      "                 WHITE       0.80      0.92      0.86       113\n",
      "\n",
      "              accuracy                           0.85       255\n",
      "             macro avg       0.75      0.71      0.72       255\n",
      "          weighted avg       0.85      0.85      0.85       255\n",
      "\n"
     ]
    }
   ],
   "source": [
    "# generates classification reports for each bmi category\n",
    "counter = 0\n",
    "for group in subgroups:\n",
    "    # print('Confusion Matrix:'+ bmi_categories[counter])\n",
    "    # print(confusion_matrix(group[\"Actual predictions\"], group[\"Model predictions\"]))\n",
    "    print('Classification Report: ' + bmi_categories[counter])\n",
    "    print(classification_report(group[\"Actual predictions\"], group[\"Model predictions\"], target_names=class_names))\n",
    "    counter+=1"
   ]
  },
  {
   "cell_type": "code",
   "execution_count": 30,
   "metadata": {},
   "outputs": [
    {
     "data": {
      "image/png": "[encoded data removed]",
      "text/plain": [
       "<Figure size 1440x360 with 8 Axes>"
      ]
     },
     "metadata": {
      "needs_background": "light"
     },
     "output_type": "display_data"
    }
   ],
   "source": [
    "counter = 0\n",
    "\n",
    "f, axes = plt.subplots(1, 4, figsize=(20, 5), sharey='row')\n",
    "for group in subgroups:\n",
    "    cm = confusion_matrix(group[\"Actual predictions\"], group[\"Model predictions\"])\n",
    "    heatmap = sns.heatmap(cm, cmap=\"Blues\", annot=True, fmt=\"d\", xticklabels=class_names, yticklabels=class_names, ax=axes[counter-1]);\n",
    "    heatmap.set_yticklabels(heatmap.get_yticklabels(), rotation=0) \n",
    "    heatmap.set_title(bmi_categories[counter])\n",
    "    counter+=1"
   ]
  },
  {
   "cell_type": "code",
   "execution_count": 31,
   "metadata": {},
   "outputs": [
    {
     "name": "stdout",
     "output_type": "stream",
     "text": [
      "Found 2326 validated image filenames belonging to 3 classes.\n"
     ]
    }
   ],
   "source": [
    "# get model predictions for the group\n",
    "group_one_batches=validate_gen.flow_from_dataframe(\n",
    "    one,\n",
    "    x_col=\"hiti_path\", \n",
    "    y_col=\"Race\", \n",
    "    class_mode=\"categorical\",\n",
    "    target_size=(IMAGE_HEIGHT, IMAGE_WIDTH),\n",
    "    shuffle=False,\n",
    "    batch_size=BATCH_SIZE, \n",
    "    dtype='float32'\n",
    ")"
   ]
  },
  {
   "cell_type": "code",
   "execution_count": 32,
   "metadata": {},
   "outputs": [],
   "source": [
    "group_one_predictions = model.predict(group_one_batches, len(group_one_batches.filenames)) "
   ]
  },
  {
   "cell_type": "code",
   "execution_count": 33,
   "metadata": {},
   "outputs": [
    {
     "name": "stdout",
     "output_type": "stream",
     "text": [
      "{'ASIAN': 0.9257584234738282, 'BLACK/AFRICAN AMERICAN': 0.9903534734244678, 'WHITE': 0.9879093776885575}\n"
     ]
    }
   ],
   "source": [
    "# calculate the auc for the group\n",
    "group_one_actual_category = to_categorical(group_one_batches.classes, num_classes=3)\n",
    "\n",
    "fpr = dict()\n",
    "tpr = dict()\n",
    "roc_auc = dict()\n",
    "for i in range(len(class_names)):\n",
    "    fpr[i], tpr[i], _ = roc_curve(group_one_actual_category[:, i], group_one_predictions[:, i])\n",
    "    roc_auc[class_names[i]] = auc(fpr[i], tpr[i])\n",
    "    \n",
    "print(roc_auc)"
   ]
  },
  {
   "cell_type": "code",
   "execution_count": 34,
   "metadata": {},
   "outputs": [
    {
     "name": "stdout",
     "output_type": "stream",
     "text": [
      "Found 1906 validated image filenames belonging to 3 classes.\n"
     ]
    }
   ],
   "source": [
    "# get model predictions for the group\n",
    "group_two_batches=validate_gen.flow_from_dataframe(\n",
    "    two,\n",
    "    x_col=\"hiti_path\", \n",
    "    y_col=\"Race\", \n",
    "    class_mode=\"categorical\",\n",
    "    target_size=(IMAGE_HEIGHT, IMAGE_WIDTH),\n",
    "    shuffle=False,\n",
    "    batch_size=BATCH_SIZE, \n",
    "    dtype='float32'\n",
    ")"
   ]
  },
  {
   "cell_type": "code",
   "execution_count": 35,
   "metadata": {},
   "outputs": [],
   "source": [
    "group_two_predictions = model.predict(group_two_batches, len(group_two_batches.filenames))"
   ]
  },
  {
   "cell_type": "code",
   "execution_count": 36,
   "metadata": {},
   "outputs": [
    {
     "name": "stdout",
     "output_type": "stream",
     "text": [
      "{'ASIAN': 0.963881857655526, 'BLACK/AFRICAN AMERICAN': 0.9873850777934936, 'WHITE': 0.9802425917294468}\n"
     ]
    }
   ],
   "source": [
    "# calculate the auc for the group\n",
    "group_two_actual_category = to_categorical(group_two_batches.classes, num_classes=3)\n",
    "\n",
    "fpr = dict()\n",
    "tpr = dict()\n",
    "roc_auc = dict()\n",
    "for i in range(len(class_names)):\n",
    "    fpr[i], tpr[i], _ = roc_curve(group_two_actual_category[:, i], group_two_predictions[:, i])\n",
    "    roc_auc[class_names[i]] = auc(fpr[i], tpr[i])\n",
    "    \n",
    "print(roc_auc)"
   ]
  },
  {
   "cell_type": "code",
   "execution_count": 37,
   "metadata": {},
   "outputs": [
    {
     "name": "stdout",
     "output_type": "stream",
     "text": [
      "Found 1675 validated image filenames belonging to 3 classes.\n"
     ]
    }
   ],
   "source": [
    "# get model predictions for the group\n",
    "group_three_batches=validate_gen.flow_from_dataframe(\n",
    "    three,\n",
    "    x_col=\"hiti_path\", \n",
    "    y_col=\"Race\", \n",
    "    class_mode=\"categorical\",\n",
    "    target_size=(IMAGE_HEIGHT, IMAGE_WIDTH),\n",
    "    shuffle=False,\n",
    "    batch_size=BATCH_SIZE, \n",
    "    dtype='float32'\n",
    ")"
   ]
  },
  {
   "cell_type": "code",
   "execution_count": 38,
   "metadata": {},
   "outputs": [],
   "source": [
    "group_three_predictions = model.predict(group_three_batches, len(group_three_batches.filenames))"
   ]
  },
  {
   "cell_type": "code",
   "execution_count": 39,
   "metadata": {},
   "outputs": [
    {
     "name": "stdout",
     "output_type": "stream",
     "text": [
      "{'ASIAN': 0.935692725974056, 'BLACK/AFRICAN AMERICAN': 0.9855866990362686, 'WHITE': 0.9762353694038058}\n"
     ]
    }
   ],
   "source": [
    "# calculate the auc for the group\n",
    "group_three_actual_category = to_categorical(group_three_batches.classes, num_classes=3)\n",
    "\n",
    "fpr = dict()\n",
    "tpr = dict()\n",
    "roc_auc = dict()\n",
    "for i in range(len(class_names)):\n",
    "    fpr[i], tpr[i], _ = roc_curve(group_three_actual_category[:, i], group_three_predictions[:, i])\n",
    "    roc_auc[class_names[i]] = auc(fpr[i], tpr[i])\n",
    "    \n",
    "print(roc_auc)"
   ]
  },
  {
   "cell_type": "code",
   "execution_count": 40,
   "metadata": {},
   "outputs": [
    {
     "name": "stdout",
     "output_type": "stream",
     "text": [
      "Found 255 validated image filenames belonging to 3 classes.\n"
     ]
    }
   ],
   "source": [
    "# get model predictions for the group\n",
    "group_four_batches=validate_gen.flow_from_dataframe(\n",
    "    four,\n",
    "    x_col=\"hiti_path\", \n",
    "    y_col=\"Race\", \n",
    "    class_mode=\"categorical\",\n",
    "    target_size=(IMAGE_HEIGHT, IMAGE_WIDTH),\n",
    "    shuffle=False,\n",
    "    batch_size=BATCH_SIZE, \n",
    "    dtype='float32'\n",
    ")"
   ]
  },
  {
   "cell_type": "code",
   "execution_count": 41,
   "metadata": {},
   "outputs": [],
   "source": [
    "group_four_predictions = model.predict(group_four_batches, len(group_four_batches.filenames))"
   ]
  },
  {
   "cell_type": "code",
   "execution_count": 42,
   "metadata": {},
   "outputs": [
    {
     "name": "stdout",
     "output_type": "stream",
     "text": [
      "{'ASIAN': 0.8609958506224067, 'BLACK/AFRICAN AMERICAN': 0.9746555118110236, 'WHITE': 0.9588682537704101}\n"
     ]
    }
   ],
   "source": [
    "# calculate the auc for the group\n",
    "group_four_actual_category = to_categorical(group_four_batches.classes, num_classes=3)\n",
    "\n",
    "fpr = dict()\n",
    "tpr = dict()\n",
    "roc_auc = dict()\n",
    "for i in range(len(class_names)):\n",
    "    fpr[i], tpr[i], _ = roc_curve(group_four_actual_category[:, i], group_four_predictions[:, i])\n",
    "    roc_auc[class_names[i]] = auc(fpr[i], tpr[i])\n",
    "    \n",
    "print(roc_auc)"
   ]
  },
  {
   "cell_type": "code",
   "execution_count": null,
   "metadata": {},
   "outputs": [],
   "source": []
  }
 ],
 "metadata": {
  "kernelspec": {
   "display_name": "Python 3",
   "language": "python",
   "name": "python3"
  },
  "language_info": {
   "codemirror_mode": {
    "name": "ipython",
    "version": 3
   },
   "file_extension": ".py",
   "mimetype": "text/x-python",
   "name": "python",
   "nbconvert_exporter": "python",
   "pygments_lexer": "ipython3",
   "version": "3.7.3"
  }
 },
 "nbformat": 4,
 "nbformat_minor": 4
}
