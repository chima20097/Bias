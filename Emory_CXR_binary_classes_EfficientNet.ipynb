{
 "cells": [
  {
   "cell_type": "code",
   "execution_count": 1,
   "metadata": {},
   "outputs": [],
   "source": [
    "import os\n",
    "import copy\n",
    "import keras\n",
    "import matplotlib.image as mpimg\n",
    "import matplotlib.pyplot as plt\n",
    "import numpy as np\n",
    "import pandas as pd\n",
    "import tensorflow as tf\n",
    "from PIL import ImageFile\n",
    "from keras.callbacks import ModelCheckpoint, EarlyStopping, ReduceLROnPlateau, CSVLogger\n",
    "from keras.layers import GlobalMaxPooling2D,Input\n",
    "from keras.models import Model\n",
    "from keras.preprocessing.image import ImageDataGenerator\n",
    "from tensorflow.keras import optimizers\n",
    "from tensorflow.keras.applications import EfficientNetB0\n",
    "from sklearn.model_selection import train_test_split"
   ]
  },
  {
   "cell_type": "code",
   "execution_count": 2,
   "metadata": {},
   "outputs": [],
   "source": [
    "# fix error with truncated image files\n",
    "ImageFile.LOAD_TRUNCATED_IMAGES = True"
   ]
  },
  {
   "cell_type": "code",
   "execution_count": 3,
   "metadata": {},
   "outputs": [],
   "source": [
    "train_df = pd.read_csv('/home/jupyter-chima/data/correa/train_censored.csv')\n",
    "validate_df = pd.read_csv('/home/jupyter-chima/data/correa/val_censored.csv')\n",
    "test_df = pd.read_csv('/home/jupyter-chima/data/correa/test_censored.csv')"
   ]
  },
  {
   "cell_type": "code",
   "execution_count": 4,
   "metadata": {},
   "outputs": [],
   "source": [
    "train_df = train_df[train_df.Race.isin(['BLACK/AFRICAN AMERICAN','WHITE'])]\n",
    "validate_df = validate_df[validate_df.Race.isin(['BLACK/AFRICAN AMERICAN','WHITE'])]\n",
    "test_df = test_df[test_df.Race.isin(['BLACK/AFRICAN AMERICAN','WHITE'])]"
   ]
  },
  {
   "cell_type": "code",
   "execution_count": 5,
   "metadata": {},
   "outputs": [],
   "source": [
    "train_df.hiti_path = train_df.hiti_path.astype(str)\n",
    "validate_df.hiti_path = validate_df.hiti_path.astype(str)\n",
    "test_df.hiti_path = test_df.hiti_path.astype(str)"
   ]
  },
  {
   "cell_type": "code",
   "execution_count": 6,
   "metadata": {},
   "outputs": [],
   "source": [
    "#remove 0 byte images\n",
    "train_df = train_df[~train_df.hiti_path.str.contains('406e0996e5f1cf082487d7d096574d10b46c0c52710222a4884db1cc|dd97e997cc2a4166dc6e192cb62e29553aa28f4671d98c9577e32cfd|6224290209c45bb2b3e07b3b3a27778d1d10f7953567b3c59158e099')]\n",
    "validate_df = validate_df[~validate_df.hiti_path.str.contains('406e0996e5f1cf082487d7d096574d10b46c0c52710222a4884db1cc|dd97e997cc2a4166dc6e192cb62e29553aa28f4671d98c9577e32cfd|6224290209c45bb2b3e07b3b3a27778d1d10f7953567b3c59158e099')]\n",
    "test_df = test_df[~test_df.hiti_path.str.contains('406e0996e5f1cf082487d7d096574d10b46c0c52710222a4884db1cc|dd97e997cc2a4166dc6e192cb62e29553aa28f4671d98c9577e32cfd|6224290209c45bb2b3e07b3b3a27778d1d10f7953567b3c59158e099')]"
   ]
  },
  {
   "cell_type": "code",
   "execution_count": 7,
   "metadata": {},
   "outputs": [
    {
     "data": {
      "text/plain": [
       "WHITE                     91369\n",
       "BLACK/AFRICAN AMERICAN    87139\n",
       "Name: Race, dtype: int64"
      ]
     },
     "execution_count": 7,
     "metadata": {},
     "output_type": "execute_result"
    }
   ],
   "source": [
    "train_df.Race.value_counts()"
   ]
  },
  {
   "cell_type": "code",
   "execution_count": 8,
   "metadata": {},
   "outputs": [
    {
     "data": {
      "text/plain": [
       "BLACK/AFRICAN AMERICAN    7540\n",
       "WHITE                     6656\n",
       "Name: Race, dtype: int64"
      ]
     },
     "execution_count": 8,
     "metadata": {},
     "output_type": "execute_result"
    }
   ],
   "source": [
    "validate_df.Race.value_counts()"
   ]
  },
  {
   "cell_type": "code",
   "execution_count": 9,
   "metadata": {},
   "outputs": [
    {
     "data": {
      "text/plain": [
       "BLACK/AFRICAN AMERICAN    6067\n",
       "WHITE                     5281\n",
       "Name: Race, dtype: int64"
      ]
     },
     "execution_count": 9,
     "metadata": {},
     "output_type": "execute_result"
    }
   ],
   "source": [
    "test_df.Race.value_counts()"
   ]
  },
  {
   "cell_type": "code",
   "execution_count": 10,
   "metadata": {},
   "outputs": [],
   "source": [
    "IMAGE_WIDTH, IMAGE_HEIGHT = (224, 224)\n",
    "EPOCHS = 20\n",
    "BATCH_SIZE = 256\n",
    "learning_rate = 1e-3\n",
    "decay_val= 0.0 \n",
    "image_shape = (IMAGE_HEIGHT, IMAGE_WIDTH, 3)"
   ]
  },
  {
   "cell_type": "code",
   "execution_count": 11,
   "metadata": {},
   "outputs": [],
   "source": [
    "# setup train, valid, and test image data generators\n",
    "train_gen = ImageDataGenerator(\n",
    "            rotation_range=15, \n",
    "            fill_mode='constant',\n",
    "            zoom_range=0.1,\n",
    "            horizontal_flip=True,\n",
    ")\n",
    "\n",
    "validate_gen = ImageDataGenerator()"
   ]
  },
  {
   "cell_type": "code",
   "execution_count": 12,
   "metadata": {},
   "outputs": [
    {
     "name": "stdout",
     "output_type": "stream",
     "text": [
      "Found 178508 validated image filenames belonging to 2 classes.\n",
      "Found 14196 validated image filenames belonging to 2 classes.\n"
     ]
    }
   ],
   "source": [
    "train_batches = train_gen.flow_from_dataframe(\n",
    "    train_df, \n",
    "    x_col=\"hiti_path\", \n",
    "    y_col=\"Race\", \n",
    "    class_mode=\"categorical\",\n",
    "    target_size=(IMAGE_HEIGHT, IMAGE_WIDTH),\n",
    "    shuffle=True,\n",
    "    seed=1,\n",
    "    batch_size=BATCH_SIZE, \n",
    "    dtype='float32'\n",
    ")\n",
    "\n",
    "validate_batches = validate_gen.flow_from_dataframe(\n",
    "    validate_df,\n",
    "    x_col=\"hiti_path\", \n",
    "    y_col=\"Race\", \n",
    "    class_mode=\"categorical\",\n",
    "    target_size=(IMAGE_HEIGHT, IMAGE_WIDTH),\n",
    "    shuffle=False,\n",
    "    batch_size=BATCH_SIZE, \n",
    "    dtype='float32'\n",
    ")        "
   ]
  },
  {
   "cell_type": "code",
   "execution_count": 13,
   "metadata": {},
   "outputs": [
    {
     "data": {
      "text/plain": [
       "['BLACK/AFRICAN AMERICAN', 'WHITE']"
      ]
     },
     "execution_count": 13,
     "metadata": {},
     "output_type": "execute_result"
    }
   ],
   "source": [
    "# see the class names\n",
    "class_names = train_df.Race.value_counts().index.tolist()\n",
    "class_names.sort()\n",
    "class_names"
   ]
  },
  {
   "cell_type": "code",
   "execution_count": 14,
   "metadata": {},
   "outputs": [
    {
     "name": "stdout",
     "output_type": "stream",
     "text": [
      "Model: \"functional_1\"\n",
      "_________________________________________________________________\n",
      "Layer (type)                 Output Shape              Param #   \n",
      "=================================================================\n",
      "input_2 (InputLayer)         [(None, 224, 224, 3)]     0         \n",
      "_________________________________________________________________\n",
      "efficientnetb0 (Functional)  (None, 7, 7, 1280)        4049571   \n",
      "_________________________________________________________________\n",
      "global_average_pooling2d (Gl (None, 1280)              0         \n",
      "_________________________________________________________________\n",
      "dense_logits (Dense)         (None, 2)                 2562      \n",
      "_________________________________________________________________\n",
      "predictions (Activation)     (None, 2)                 0         \n",
      "=================================================================\n",
      "Total params: 4,052,133\n",
      "Trainable params: 4,010,110\n",
      "Non-trainable params: 42,023\n",
      "_________________________________________________________________\n"
     ]
    }
   ],
   "source": [
    "# create model\n",
    "n_labels = len(class_names)\n",
    "\n",
    "base_model = EfficientNetB0( \n",
    "    input_shape=image_shape,\n",
    "    include_top=False,\n",
    "    weights='imagenet',\n",
    "    drop_connect_rate=0.4\n",
    ")\n",
    "\n",
    "inputs = Input(image_shape)\n",
    "x = base_model(inputs)\n",
    "x = tf.keras.layers.GlobalAveragePooling2D()(x)\n",
    "x = tf.keras.layers.Dense(n_labels, name='dense_logits')(x)\n",
    "output = tf.keras.layers.Activation('softmax', dtype='float32', name='predictions')(x)\n",
    "model = Model(inputs= inputs, outputs=output)\n",
    "model.summary()"
   ]
  },
  {
   "cell_type": "code",
   "execution_count": 15,
   "metadata": {},
   "outputs": [],
   "source": [
    "adam_opt = optimizers.Adam(lr=learning_rate, decay=decay_val)\n",
    "\n",
    "model.compile(\n",
    "    optimizer=adam_opt,\n",
    "    loss=tf.losses.CategoricalCrossentropy(),\n",
    "    metrics=[\n",
    "        tf.keras.metrics.AUC(curve='ROC', name='ROC-AUC'),\n",
    "        tf.keras.metrics.AUC(curve='PR', name='PR-AUC')\n",
    "    ],\n",
    ")"
   ]
  },
  {
   "cell_type": "code",
   "execution_count": 16,
   "metadata": {
    "scrolled": false
   },
   "outputs": [
    {
     "name": "stdout",
     "output_type": "stream",
     "text": [
      "Epoch 1/20\n",
      "698/698 [==============================] - ETA: 0s - loss: 0.2804 - ROC-AUC: 0.9521 - PR-AUC: 0.9521 \n",
      "Epoch 00001: val_PR-AUC improved from -inf to 0.98290, saving model to /home/jupyter-chima/Bias/Emory_CXR/EfficientNet/Binary_classes/Checkpoint/\n",
      "698/698 [==============================] - 27421s 39s/step - loss: 0.2804 - ROC-AUC: 0.9521 - PR-AUC: 0.9521 - val_loss: 0.1617 - val_ROC-AUC: 0.9835 - val_PR-AUC: 0.9829\n",
      "Epoch 2/20\n",
      "698/698 [==============================] - ETA: 0s - loss: 0.1993 - ROC-AUC: 0.9755 - PR-AUC: 0.9750 \n",
      "Epoch 00002: val_PR-AUC did not improve from 0.98290\n",
      "698/698 [==============================] - 29073s 42s/step - loss: 0.1993 - ROC-AUC: 0.9755 - PR-AUC: 0.9750 - val_loss: 0.2266 - val_ROC-AUC: 0.9722 - val_PR-AUC: 0.9708\n",
      "Epoch 3/20\n",
      "698/698 [==============================] - ETA: 0s - loss: 0.1754 - ROC-AUC: 0.9809 - PR-AUC: 0.9805 \n",
      "Epoch 00003: val_PR-AUC improved from 0.98290 to 0.98321, saving model to /home/jupyter-chima/Bias/Emory_CXR/EfficientNet/Binary_classes/Checkpoint/\n",
      "698/698 [==============================] - 38839s 56s/step - loss: 0.1754 - ROC-AUC: 0.9809 - PR-AUC: 0.9805 - val_loss: 0.1636 - val_ROC-AUC: 0.9840 - val_PR-AUC: 0.9832\n",
      "Epoch 4/20\n",
      "698/698 [==============================] - ETA: 0s - loss: 0.1606 - ROC-AUC: 0.9837 - PR-AUC: 0.9832 \n",
      "Epoch 00004: val_PR-AUC did not improve from 0.98321\n",
      "\n",
      "Epoch 00004: ReduceLROnPlateau reducing learning rate to 0.00010000000474974513.\n",
      "698/698 [==============================] - 36128s 52s/step - loss: 0.1606 - ROC-AUC: 0.9837 - PR-AUC: 0.9832 - val_loss: 0.2189 - val_ROC-AUC: 0.9743 - val_PR-AUC: 0.9736\n",
      "Epoch 5/20\n",
      "698/698 [==============================] - ETA: 0s - loss: 0.1270 - ROC-AUC: 0.9895 - PR-AUC: 0.9890 \n",
      "Epoch 00005: val_PR-AUC improved from 0.98321 to 0.98635, saving model to /home/jupyter-chima/Bias/Emory_CXR/EfficientNet/Binary_classes/Checkpoint/\n",
      "698/698 [==============================] - 27186s 39s/step - loss: 0.1270 - ROC-AUC: 0.9895 - PR-AUC: 0.9890 - val_loss: 0.1434 - val_ROC-AUC: 0.9872 - val_PR-AUC: 0.9863\n",
      "Epoch 6/20\n",
      "698/698 [==============================] - ETA: 0s - loss: 0.1171 - ROC-AUC: 0.9909 - PR-AUC: 0.9904 \n",
      "Epoch 00006: val_PR-AUC improved from 0.98635 to 0.98687, saving model to /home/jupyter-chima/Bias/Emory_CXR/EfficientNet/Binary_classes/Checkpoint/\n",
      "698/698 [==============================] - 26830s 38s/step - loss: 0.1171 - ROC-AUC: 0.9909 - PR-AUC: 0.9904 - val_loss: 0.1401 - val_ROC-AUC: 0.9877 - val_PR-AUC: 0.9869\n",
      "Epoch 7/20\n",
      "698/698 [==============================] - ETA: 0s - loss: 0.1098 - ROC-AUC: 0.9918 - PR-AUC: 0.9914 \n",
      "Epoch 00007: val_PR-AUC did not improve from 0.98687\n",
      "698/698 [==============================] - 27106s 39s/step - loss: 0.1098 - ROC-AUC: 0.9918 - PR-AUC: 0.9914 - val_loss: 0.1542 - val_ROC-AUC: 0.9855 - val_PR-AUC: 0.9844\n",
      "Epoch 8/20\n",
      "698/698 [==============================] - ETA: 0s - loss: 0.1064 - ROC-AUC: 0.9923 - PR-AUC: 0.9919 \n",
      "Epoch 00008: val_PR-AUC improved from 0.98687 to 0.98731, saving model to /home/jupyter-chima/Bias/Emory_CXR/EfficientNet/Binary_classes/Checkpoint/\n",
      "698/698 [==============================] - 27905s 40s/step - loss: 0.1064 - ROC-AUC: 0.9923 - PR-AUC: 0.9919 - val_loss: 0.1358 - val_ROC-AUC: 0.9881 - val_PR-AUC: 0.9873\n",
      "Epoch 9/20\n",
      "698/698 [==============================] - ETA: 0s - loss: 0.1017 - ROC-AUC: 0.9929 - PR-AUC: 0.9925 \n",
      "Epoch 00009: val_PR-AUC did not improve from 0.98731\n",
      "698/698 [==============================] - 24485s 35s/step - loss: 0.1017 - ROC-AUC: 0.9929 - PR-AUC: 0.9925 - val_loss: 0.1975 - val_ROC-AUC: 0.9788 - val_PR-AUC: 0.9773\n",
      "Epoch 10/20\n",
      "698/698 [==============================] - ETA: 0s - loss: 0.0969 - ROC-AUC: 0.9935 - PR-AUC: 0.9931 \n",
      "Epoch 00010: val_PR-AUC did not improve from 0.98731\n",
      "698/698 [==============================] - 18264s 26s/step - loss: 0.0969 - ROC-AUC: 0.9935 - PR-AUC: 0.9931 - val_loss: 0.1452 - val_ROC-AUC: 0.9868 - val_PR-AUC: 0.9859\n",
      "Epoch 11/20\n",
      "698/698 [==============================] - ETA: 0s - loss: 0.0930 - ROC-AUC: 0.9939 - PR-AUC: 0.9936 \n",
      "Epoch 00011: val_PR-AUC did not improve from 0.98731\n",
      "\n",
      "Epoch 00011: ReduceLROnPlateau reducing learning rate to 1.0000000474974514e-05.\n",
      "698/698 [==============================] - 15527s 22s/step - loss: 0.0930 - ROC-AUC: 0.9939 - PR-AUC: 0.9936 - val_loss: 0.1513 - val_ROC-AUC: 0.9862 - val_PR-AUC: 0.9852\n",
      "Epoch 12/20\n",
      "698/698 [==============================] - ETA: 0s - loss: 0.0862 - ROC-AUC: 0.9948 - PR-AUC: 0.9945 \n",
      "Epoch 00012: val_PR-AUC did not improve from 0.98731\n",
      "698/698 [==============================] - 16222s 23s/step - loss: 0.0862 - ROC-AUC: 0.9948 - PR-AUC: 0.9945 - val_loss: 0.1544 - val_ROC-AUC: 0.9859 - val_PR-AUC: 0.9847\n",
      "Epoch 13/20\n",
      "698/698 [==============================] - ETA: 0s - loss: 0.0856 - ROC-AUC: 0.9949 - PR-AUC: 0.9946 \n",
      "Epoch 00013: val_PR-AUC did not improve from 0.98731\n",
      "698/698 [==============================] - 17208s 25s/step - loss: 0.0856 - ROC-AUC: 0.9949 - PR-AUC: 0.9946 - val_loss: 0.1612 - val_ROC-AUC: 0.9849 - val_PR-AUC: 0.9836\n",
      "Epoch 14/20\n",
      "698/698 [==============================] - ETA: 0s - loss: 0.0848 - ROC-AUC: 0.9950 - PR-AUC: 0.9947 \n",
      "Epoch 00014: val_PR-AUC did not improve from 0.98731\n",
      "\n",
      "Epoch 00014: ReduceLROnPlateau reducing learning rate to 1.0000000656873453e-06.\n",
      "698/698 [==============================] - 17259s 25s/step - loss: 0.0848 - ROC-AUC: 0.9950 - PR-AUC: 0.9947 - val_loss: 0.1611 - val_ROC-AUC: 0.9848 - val_PR-AUC: 0.9834\n",
      "Epoch 15/20\n",
      "698/698 [==============================] - ETA: 0s - loss: 0.0843 - ROC-AUC: 0.9949 - PR-AUC: 0.9946 \n",
      "Epoch 00015: val_PR-AUC did not improve from 0.98731\n",
      "698/698 [==============================] - 20222s 29s/step - loss: 0.0843 - ROC-AUC: 0.9949 - PR-AUC: 0.9946 - val_loss: 0.1593 - val_ROC-AUC: 0.9851 - val_PR-AUC: 0.9838\n",
      "Epoch 16/20\n",
      "698/698 [==============================] - ETA: 0s - loss: 0.0844 - ROC-AUC: 0.9950 - PR-AUC: 0.9947 \n",
      "Epoch 00016: val_PR-AUC did not improve from 0.98731\n",
      "698/698 [==============================] - 16987s 24s/step - loss: 0.0844 - ROC-AUC: 0.9950 - PR-AUC: 0.9947 - val_loss: 0.1640 - val_ROC-AUC: 0.9843 - val_PR-AUC: 0.9827\n",
      "Epoch 17/20\n",
      "698/698 [==============================] - ETA: 0s - loss: 0.0826 - ROC-AUC: 0.9952 - PR-AUC: 0.9949 \n",
      "Epoch 00017: val_PR-AUC did not improve from 0.98731\n",
      "\n",
      "Epoch 00017: ReduceLROnPlateau reducing learning rate to 1e-06.\n",
      "698/698 [==============================] - 16725s 24s/step - loss: 0.0826 - ROC-AUC: 0.9952 - PR-AUC: 0.9949 - val_loss: 0.1637 - val_ROC-AUC: 0.9844 - val_PR-AUC: 0.9828\n",
      "Epoch 18/20\n",
      "698/698 [==============================] - ETA: 0s - loss: 0.0829 - ROC-AUC: 0.9951 - PR-AUC: 0.9948 \n",
      "Epoch 00018: val_PR-AUC did not improve from 0.98731\n",
      "698/698 [==============================] - 18629s 27s/step - loss: 0.0829 - ROC-AUC: 0.9951 - PR-AUC: 0.9948 - val_loss: 0.1630 - val_ROC-AUC: 0.9845 - val_PR-AUC: 0.9831\n",
      "Epoch 19/20\n",
      "698/698 [==============================] - ETA: 0s - loss: 0.0841 - ROC-AUC: 0.9949 - PR-AUC: 0.9946 \n",
      "Epoch 00019: val_PR-AUC did not improve from 0.98731\n",
      "698/698 [==============================] - 20656s 30s/step - loss: 0.0841 - ROC-AUC: 0.9949 - PR-AUC: 0.9946 - val_loss: 0.1627 - val_ROC-AUC: 0.9845 - val_PR-AUC: 0.9829\n",
      "Epoch 20/20\n",
      "698/698 [==============================] - ETA: 0s - loss: 0.0830 - ROC-AUC: 0.9952 - PR-AUC: 0.9949 \n",
      "Epoch 00020: val_PR-AUC did not improve from 0.98731\n",
      "698/698 [==============================] - 21074s 30s/step - loss: 0.0830 - ROC-AUC: 0.9952 - PR-AUC: 0.9949 - val_loss: 0.1625 - val_ROC-AUC: 0.9846 - val_PR-AUC: 0.9831\n"
     ]
    }
   ],
   "source": [
    "save = ModelCheckpoint(\n",
    "    '/home/jupyter-chima/Bias/Emory_CXR/Binary_classes/EfficientNet/Checkpoint/', \n",
    "    monitor=\"val_PR-AUC\", \n",
    "    save_best_only=True,\n",
    "    save_weights_only=True, \n",
    "    mode='max',\n",
    "    verbose=1\n",
    ")\n",
    "# stop = EarlyStopping(monitor='val_loss', mode='min', patience=6, restore_best_weights=True)\n",
    "scheduler = ReduceLROnPlateau(\n",
    "    monitor=\"val_loss\", \n",
    "    mode='min', \n",
    "    factor=0.1, \n",
    "    patience=3, \n",
    "    min_lr=1e-6, \n",
    "    verbose=1\n",
    ")\n",
    "logger = CSVLogger('/home/jupyter-chima/Bias/Emory_CXR/Binary_classes/EfficientNet/training.log')\n",
    "history = model.fit(\n",
    "    train_batches, \n",
    "    epochs=EPOCHS, \n",
    "    validation_data=validate_batches, \n",
    "    verbose=1, \n",
    "    callbacks=[save, scheduler, logger]\n",
    ")"
   ]
  },
  {
   "cell_type": "code",
   "execution_count": 17,
   "metadata": {},
   "outputs": [],
   "source": [
    "model.save('/home/jupyter-chima/Bias/Emory_CXR/Binary_classes/EfficientNet/Emory_CXR_binary_classes_EfficientNet.h5')"
   ]
  },
  {
   "cell_type": "code",
   "execution_count": 18,
   "metadata": {},
   "outputs": [
    {
     "data": {
      "image/png": "[encoded data removed]",
      "text/plain": [
       "<Figure size 432x288 with 1 Axes>"
      ]
     },
     "metadata": {
      "needs_background": "light"
     },
     "output_type": "display_data"
    },
    {
     "data": {
      "image/png": "[encoded data removed]",
      "text/plain": [
       "<Figure size 432x288 with 1 Axes>"
      ]
     },
     "metadata": {
      "needs_background": "light"
     },
     "output_type": "display_data"
    },
    {
     "data": {
      "image/png": "[encoded data removed]",
      "text/plain": [
       "<Figure size 432x288 with 1 Axes>"
      ]
     },
     "metadata": {
      "needs_background": "light"
     },
     "output_type": "display_data"
    }
   ],
   "source": [
    "# summarize history for loss\n",
    "plt.plot(history.history['loss'])\n",
    "plt.plot(history.history['val_loss'])\n",
    "plt.title('model loss')\n",
    "plt.ylabel('loss')\n",
    "plt.xlabel('epoch')\n",
    "plt.legend(['train', 'valid'], loc='lower right')\n",
    "plt.show()\n",
    "    \n",
    "# summarize history for ROC auc\n",
    "plt.plot(history.history['ROC-AUC'])\n",
    "plt.plot(history.history['val_ROC-AUC'])\n",
    "plt.title('ROC model AUC')\n",
    "plt.ylabel('AUC')\n",
    "plt.xlabel('epoch')\n",
    "plt.legend(['train', 'valid'], loc='lower right')\n",
    "plt.show()\n",
    "\n",
    "# summarize history for ROC auc\n",
    "plt.plot(history.history['PR-AUC'])\n",
    "plt.plot(history.history['val_PR-AUC'])\n",
    "plt.title('PR model AUC')\n",
    "plt.ylabel('AUC')\n",
    "plt.xlabel('epoch')\n",
    "plt.legend(['train', 'valid'], loc='lower right')\n",
    "plt.show()"
   ]
  },
  {
   "cell_type": "code",
   "execution_count": 19,
   "metadata": {},
   "outputs": [
    {
     "name": "stdout",
     "output_type": "stream",
     "text": [
      "Found 11348 validated image filenames belonging to 2 classes.\n"
     ]
    }
   ],
   "source": [
    "test_batches=validate_gen.flow_from_dataframe(\n",
    "    test_df,\n",
    "    x_col=\"hiti_path\", \n",
    "    y_col=\"Race\", \n",
    "    class_mode=\"categorical\",\n",
    "    target_size=(IMAGE_HEIGHT, IMAGE_WIDTH),\n",
    "    shuffle=False,\n",
    "    batch_size=BATCH_SIZE, \n",
    "    dtype='float32'\n",
    ")"
   ]
  },
  {
   "cell_type": "code",
   "execution_count": 20,
   "metadata": {},
   "outputs": [],
   "source": [
    "predictions = model.predict(test_batches, len(test_batches.filenames)) "
   ]
  },
  {
   "cell_type": "code",
   "execution_count": 21,
   "metadata": {},
   "outputs": [],
   "source": [
    "y_hat = np.argmax(predictions, axis=1)\n",
    "y_hat= list(y_hat)"
   ]
  },
  {
   "cell_type": "code",
   "execution_count": 22,
   "metadata": {},
   "outputs": [
    {
     "name": "stdout",
     "output_type": "stream",
     "text": [
      "Confusion Matrix\n",
      "[[5554  513]\n",
      " [ 112 5169]]\n",
      "Classification Report\n",
      "                        precision    recall  f1-score   support\n",
      "\n",
      "BLACK/AFRICAN AMERICAN       0.98      0.92      0.95      6067\n",
      "                 WHITE       0.91      0.98      0.94      5281\n",
      "\n",
      "              accuracy                           0.94     11348\n",
      "             macro avg       0.94      0.95      0.94     11348\n",
      "          weighted avg       0.95      0.94      0.94     11348\n",
      "\n"
     ]
    }
   ],
   "source": [
    "# building the confusion matrix\n",
    "\n",
    "from sklearn.metrics import classification_report, confusion_matrix\n",
    "print('Confusion Matrix')\n",
    "print(confusion_matrix(test_batches.classes, y_hat))\n",
    "print('Classification Report')\n",
    "# batches are made in alphabetical order if shuffle is false\n",
    "print(classification_report(test_batches.classes, y_hat, target_names=class_names,  zero_division = 0)) "
   ]
  },
  {
   "cell_type": "code",
   "execution_count": null,
   "metadata": {},
   "outputs": [],
   "source": []
  }
 ],
 "metadata": {
  "kernelspec": {
   "display_name": "Python 3",
   "language": "python",
   "name": "python3"
  },
  "language_info": {
   "codemirror_mode": {
    "name": "ipython",
    "version": 3
   },
   "file_extension": ".py",
   "mimetype": "text/x-python",
   "name": "python",
   "nbconvert_exporter": "python",
   "pygments_lexer": "ipython3",
   "version": "3.7.3"
  }
 },
 "nbformat": 4,
 "nbformat_minor": 4
}
