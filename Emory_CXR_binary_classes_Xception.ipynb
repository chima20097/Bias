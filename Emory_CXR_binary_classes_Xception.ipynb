{
 "cells": [
  {
   "cell_type": "code",
   "execution_count": 1,
   "metadata": {},
   "outputs": [],
   "source": [
    "import os\n",
    "import copy\n",
    "import keras\n",
    "import matplotlib.image as mpimg\n",
    "import matplotlib.pyplot as plt\n",
    "import numpy as np\n",
    "import pandas as pd\n",
    "import tensorflow as tf\n",
    "from PIL import ImageFile\n",
    "from keras.callbacks import ModelCheckpoint, EarlyStopping, ReduceLROnPlateau, CSVLogger\n",
    "from keras.layers import GlobalMaxPooling2D,Input\n",
    "from keras.models import Model\n",
    "from keras.preprocessing.image import ImageDataGenerator\n",
    "from tensorflow.keras import optimizers\n",
    "from tensorflow.keras.applications import Xception\n",
    "from sklearn.model_selection import train_test_split"
   ]
  },
  {
   "cell_type": "code",
   "execution_count": 2,
   "metadata": {},
   "outputs": [],
   "source": [
    "# fix error with truncated image files\n",
    "ImageFile.LOAD_TRUNCATED_IMAGES = True"
   ]
  },
  {
   "cell_type": "code",
   "execution_count": 3,
   "metadata": {},
   "outputs": [],
   "source": [
    "train_df = pd.read_csv('/home/jupyter-chima/data/correa/train_censored.csv')\n",
    "validate_df = pd.read_csv('/home/jupyter-chima/data/correa/val_censored.csv')\n",
    "test_df = pd.read_csv('/home/jupyter-chima/data/correa/test_censored.csv')"
   ]
  },
  {
   "cell_type": "code",
   "execution_count": 4,
   "metadata": {},
   "outputs": [],
   "source": [
    "train_df = train_df[train_df.Race.isin(['BLACK/AFRICAN AMERICAN','WHITE'])]\n",
    "validate_df = validate_df[validate_df.Race.isin(['BLACK/AFRICAN AMERICAN','WHITE'])]\n",
    "test_df = test_df[test_df.Race.isin(['BLACK/AFRICAN AMERICAN','WHITE'])]"
   ]
  },
  {
   "cell_type": "code",
   "execution_count": 5,
   "metadata": {},
   "outputs": [],
   "source": [
    "train_df.hiti_path = train_df.hiti_path.astype(str)\n",
    "validate_df.hiti_path = validate_df.hiti_path.astype(str)\n",
    "test_df.hiti_path = test_df.hiti_path.astype(str)"
   ]
  },
  {
   "cell_type": "code",
   "execution_count": 6,
   "metadata": {},
   "outputs": [],
   "source": [
    "#remove 0 byte images\n",
    "train_df = train_df[~train_df.hiti_path.str.contains('406e0996e5f1cf082487d7d096574d10b46c0c52710222a4884db1cc|dd97e997cc2a4166dc6e192cb62e29553aa28f4671d98c9577e32cfd|6224290209c45bb2b3e07b3b3a27778d1d10f7953567b3c59158e099')]\n",
    "validate_df = validate_df[~validate_df.hiti_path.str.contains('406e0996e5f1cf082487d7d096574d10b46c0c52710222a4884db1cc|dd97e997cc2a4166dc6e192cb62e29553aa28f4671d98c9577e32cfd|6224290209c45bb2b3e07b3b3a27778d1d10f7953567b3c59158e099')]\n",
    "test_df = test_df[~test_df.hiti_path.str.contains('406e0996e5f1cf082487d7d096574d10b46c0c52710222a4884db1cc|dd97e997cc2a4166dc6e192cb62e29553aa28f4671d98c9577e32cfd|6224290209c45bb2b3e07b3b3a27778d1d10f7953567b3c59158e099')]"
   ]
  },
  {
   "cell_type": "code",
   "execution_count": 7,
   "metadata": {},
   "outputs": [
    {
     "data": {
      "text/plain": [
       "WHITE                     91369\n",
       "BLACK/AFRICAN AMERICAN    87139\n",
       "Name: Race, dtype: int64"
      ]
     },
     "execution_count": 7,
     "metadata": {},
     "output_type": "execute_result"
    }
   ],
   "source": [
    "train_df.Race.value_counts()"
   ]
  },
  {
   "cell_type": "code",
   "execution_count": 8,
   "metadata": {},
   "outputs": [
    {
     "data": {
      "text/plain": [
       "BLACK/AFRICAN AMERICAN    7540\n",
       "WHITE                     6656\n",
       "Name: Race, dtype: int64"
      ]
     },
     "execution_count": 8,
     "metadata": {},
     "output_type": "execute_result"
    }
   ],
   "source": [
    "validate_df.Race.value_counts()"
   ]
  },
  {
   "cell_type": "code",
   "execution_count": 9,
   "metadata": {},
   "outputs": [
    {
     "data": {
      "text/plain": [
       "BLACK/AFRICAN AMERICAN    6067\n",
       "WHITE                     5281\n",
       "Name: Race, dtype: int64"
      ]
     },
     "execution_count": 9,
     "metadata": {},
     "output_type": "execute_result"
    }
   ],
   "source": [
    "test_df.Race.value_counts()"
   ]
  },
  {
   "cell_type": "code",
   "execution_count": 10,
   "metadata": {},
   "outputs": [],
   "source": [
    "IMAGE_WIDTH, IMAGE_HEIGHT = (224, 224)\n",
    "EPOCHS = 20\n",
    "BATCH_SIZE = 256\n",
    "learning_rate = 1e-3\n",
    "decay_val= 0.0 \n",
    "image_shape = (IMAGE_HEIGHT, IMAGE_WIDTH, 3)"
   ]
  },
  {
   "cell_type": "code",
   "execution_count": 11,
   "metadata": {},
   "outputs": [],
   "source": [
    "# setup train, valid, and test image data generators\n",
    "train_gen = ImageDataGenerator(\n",
    "            rotation_range=15, \n",
    "            fill_mode='constant',\n",
    "            zoom_range=0.1,\n",
    "            horizontal_flip=True,\n",
    ")\n",
    "\n",
    "validate_gen = ImageDataGenerator()"
   ]
  },
  {
   "cell_type": "code",
   "execution_count": 12,
   "metadata": {},
   "outputs": [
    {
     "name": "stdout",
     "output_type": "stream",
     "text": [
      "Found 178508 validated image filenames belonging to 2 classes.\n",
      "Found 14196 validated image filenames belonging to 2 classes.\n"
     ]
    }
   ],
   "source": [
    "train_batches = train_gen.flow_from_dataframe(\n",
    "    train_df, \n",
    "    x_col=\"hiti_path\", \n",
    "    y_col=\"Race\", \n",
    "    class_mode=\"categorical\",\n",
    "    target_size=(IMAGE_HEIGHT, IMAGE_WIDTH),\n",
    "    shuffle=True,\n",
    "    seed=1,\n",
    "    batch_size=BATCH_SIZE, \n",
    "    dtype='float32'\n",
    ")\n",
    "\n",
    "validate_batches = validate_gen.flow_from_dataframe(\n",
    "    validate_df,\n",
    "    x_col=\"hiti_path\", \n",
    "    y_col=\"Race\", \n",
    "    class_mode=\"categorical\",\n",
    "    target_size=(IMAGE_HEIGHT, IMAGE_WIDTH),\n",
    "    shuffle=False,\n",
    "    batch_size=BATCH_SIZE, \n",
    "    dtype='float32'\n",
    ")        "
   ]
  },
  {
   "cell_type": "code",
   "execution_count": 13,
   "metadata": {},
   "outputs": [
    {
     "data": {
      "text/plain": [
       "['BLACK/AFRICAN AMERICAN', 'WHITE']"
      ]
     },
     "execution_count": 13,
     "metadata": {},
     "output_type": "execute_result"
    }
   ],
   "source": [
    "# see the class names\n",
    "class_names = train_df.Race.value_counts().index.tolist()\n",
    "class_names.sort()\n",
    "class_names"
   ]
  },
  {
   "cell_type": "code",
   "execution_count": 14,
   "metadata": {},
   "outputs": [
    {
     "name": "stdout",
     "output_type": "stream",
     "text": [
      "Model: \"functional_1\"\n",
      "_________________________________________________________________\n",
      "Layer (type)                 Output Shape              Param #   \n",
      "=================================================================\n",
      "input_2 (InputLayer)         [(None, 224, 224, 3)]     0         \n",
      "_________________________________________________________________\n",
      "xception (Functional)        (None, 7, 7, 2048)        20861480  \n",
      "_________________________________________________________________\n",
      "global_average_pooling2d (Gl (None, 2048)              0         \n",
      "_________________________________________________________________\n",
      "dense_logits (Dense)         (None, 2)                 4098      \n",
      "_________________________________________________________________\n",
      "predictions (Activation)     (None, 2)                 0         \n",
      "=================================================================\n",
      "Total params: 20,865,578\n",
      "Trainable params: 20,811,050\n",
      "Non-trainable params: 54,528\n",
      "_________________________________________________________________\n"
     ]
    }
   ],
   "source": [
    "# create model\n",
    "n_labels = len(class_names)\n",
    "\n",
    "base_model = Xception( \n",
    "    input_shape=image_shape,\n",
    "    include_top=False,\n",
    "    weights='imagenet'\n",
    ")\n",
    "\n",
    "inputs = Input(image_shape)\n",
    "x = base_model(inputs)\n",
    "x = tf.keras.layers.GlobalAveragePooling2D()(x)\n",
    "x = tf.keras.layers.Dense(n_labels, name='dense_logits')(x)\n",
    "output = tf.keras.layers.Activation('softmax', dtype='float32', name='predictions')(x)\n",
    "model = Model(inputs= inputs, outputs=output)\n",
    "model.summary()"
   ]
  },
  {
   "cell_type": "code",
   "execution_count": 15,
   "metadata": {},
   "outputs": [],
   "source": [
    "adam_opt = optimizers.Adam(lr=learning_rate, decay=decay_val)\n",
    "\n",
    "model.compile(\n",
    "    optimizer=adam_opt,\n",
    "    loss=tf.losses.CategoricalCrossentropy(),\n",
    "    metrics=[\n",
    "        tf.keras.metrics.AUC(curve='ROC', name='ROC-AUC'),\n",
    "        tf.keras.metrics.AUC(curve='PR', name='PR-AUC')\n",
    "    ],\n",
    ")"
   ]
  },
  {
   "cell_type": "code",
   "execution_count": 16,
   "metadata": {
    "scrolled": false
   },
   "outputs": [
    {
     "name": "stdout",
     "output_type": "stream",
     "text": [
      "Epoch 1/20\n",
      "698/698 [==============================] - ETA: 0s - loss: 0.2458 - ROC-AUC: 0.9632 - PR-AUC: 0.9630 \n",
      "Epoch 00001: val_PR-AUC improved from -inf to 0.98320, saving model to /home/jupyter-chima/Bias/Emory_CXR/Xception/Checkpoint/\n",
      "698/698 [==============================] - 21515s 31s/step - loss: 0.2458 - ROC-AUC: 0.9632 - PR-AUC: 0.9630 - val_loss: 0.1573 - val_ROC-AUC: 0.9842 - val_PR-AUC: 0.9832\n",
      "Epoch 2/20\n",
      "698/698 [==============================] - ETA: 0s - loss: 0.1728 - ROC-AUC: 0.9812 - PR-AUC: 0.9806 \n",
      "Epoch 00002: val_PR-AUC improved from 0.98320 to 0.98500, saving model to /home/jupyter-chima/Bias/Emory_CXR/Xception/Checkpoint/\n",
      "698/698 [==============================] - 24033s 34s/step - loss: 0.1728 - ROC-AUC: 0.9812 - PR-AUC: 0.9806 - val_loss: 0.1541 - val_ROC-AUC: 0.9851 - val_PR-AUC: 0.9850\n",
      "Epoch 3/20\n",
      "698/698 [==============================] - ETA: 0s - loss: 0.1533 - ROC-AUC: 0.9850 - PR-AUC: 0.9843 \n",
      "Epoch 00003: val_PR-AUC did not improve from 0.98500\n",
      "698/698 [==============================] - 34333s 49s/step - loss: 0.1533 - ROC-AUC: 0.9850 - PR-AUC: 0.9843 - val_loss: 0.1736 - val_ROC-AUC: 0.9840 - val_PR-AUC: 0.9825\n",
      "Epoch 4/20\n",
      "698/698 [==============================] - ETA: 0s - loss: 0.1388 - ROC-AUC: 0.9875 - PR-AUC: 0.9869 \n",
      "Epoch 00004: val_PR-AUC did not improve from 0.98500\n",
      "698/698 [==============================] - 20369s 29s/step - loss: 0.1388 - ROC-AUC: 0.9875 - PR-AUC: 0.9869 - val_loss: 0.1653 - val_ROC-AUC: 0.9839 - val_PR-AUC: 0.9831\n",
      "Epoch 5/20\n",
      "698/698 [==============================] - ETA: 0s - loss: 0.1300 - ROC-AUC: 0.9888 - PR-AUC: 0.9882 \n",
      "Epoch 00005: val_PR-AUC improved from 0.98500 to 0.98883, saving model to /home/jupyter-chima/Bias/Emory_CXR/Xception/Checkpoint/\n",
      "698/698 [==============================] - 20340s 29s/step - loss: 0.1300 - ROC-AUC: 0.9888 - PR-AUC: 0.9882 - val_loss: 0.1264 - val_ROC-AUC: 0.9894 - val_PR-AUC: 0.9888\n",
      "Epoch 6/20\n",
      "698/698 [==============================] - ETA: 0s - loss: 0.1212 - ROC-AUC: 0.9902 - PR-AUC: 0.9897 \n",
      "Epoch 00006: val_PR-AUC did not improve from 0.98883\n",
      "698/698 [==============================] - 20024s 29s/step - loss: 0.1212 - ROC-AUC: 0.9902 - PR-AUC: 0.9897 - val_loss: 0.2624 - val_ROC-AUC: 0.9660 - val_PR-AUC: 0.9624\n",
      "Epoch 7/20\n",
      "698/698 [==============================] - ETA: 0s - loss: 0.1127 - ROC-AUC: 0.9914 - PR-AUC: 0.9909 \n",
      "Epoch 00007: val_PR-AUC improved from 0.98883 to 0.99054, saving model to /home/jupyter-chima/Bias/Emory_CXR/Xception/Checkpoint/\n",
      "698/698 [==============================] - 20101s 29s/step - loss: 0.1127 - ROC-AUC: 0.9914 - PR-AUC: 0.9909 - val_loss: 0.1152 - val_ROC-AUC: 0.9910 - val_PR-AUC: 0.9905\n",
      "Epoch 8/20\n",
      "698/698 [==============================] - ETA: 0s - loss: 0.1068 - ROC-AUC: 0.9921 - PR-AUC: 0.9916 \n",
      "Epoch 00008: val_PR-AUC improved from 0.99054 to 0.99112, saving model to /home/jupyter-chima/Bias/Emory_CXR/Xception/Checkpoint/\n",
      "698/698 [==============================] - 20433s 29s/step - loss: 0.1068 - ROC-AUC: 0.9921 - PR-AUC: 0.9916 - val_loss: 0.1055 - val_ROC-AUC: 0.9920 - val_PR-AUC: 0.9911\n",
      "Epoch 9/20\n",
      "698/698 [==============================] - ETA: 0s - loss: 0.0995 - ROC-AUC: 0.9930 - PR-AUC: 0.9924 \n",
      "Epoch 00009: val_PR-AUC did not improve from 0.99112\n",
      "698/698 [==============================] - 20713s 30s/step - loss: 0.0995 - ROC-AUC: 0.9930 - PR-AUC: 0.9924 - val_loss: 0.1294 - val_ROC-AUC: 0.9892 - val_PR-AUC: 0.9885\n",
      "Epoch 10/20\n",
      "698/698 [==============================] - ETA: 0s - loss: 0.0944 - ROC-AUC: 0.9937 - PR-AUC: 0.9932 \n",
      "Epoch 00010: val_PR-AUC did not improve from 0.99112\n",
      "698/698 [==============================] - 23591s 34s/step - loss: 0.0944 - ROC-AUC: 0.9937 - PR-AUC: 0.9932 - val_loss: 0.3115 - val_ROC-AUC: 0.9596 - val_PR-AUC: 0.9550\n",
      "Epoch 11/20\n",
      "698/698 [==============================] - ETA: 0s - loss: 0.0883 - ROC-AUC: 0.9944 - PR-AUC: 0.9939 \n",
      "Epoch 00011: val_PR-AUC did not improve from 0.99112\n",
      "\n",
      "Epoch 00011: ReduceLROnPlateau reducing learning rate to 0.00010000000474974513.\n",
      "698/698 [==============================] - 20986s 30s/step - loss: 0.0883 - ROC-AUC: 0.9944 - PR-AUC: 0.9939 - val_loss: 0.1166 - val_ROC-AUC: 0.9902 - val_PR-AUC: 0.9886\n",
      "Epoch 12/20\n",
      "698/698 [==============================] - ETA: 0s - loss: 0.0601 - ROC-AUC: 0.9968 - PR-AUC: 0.9964 \n",
      "Epoch 00012: val_PR-AUC did not improve from 0.99112\n",
      "698/698 [==============================] - 20676s 30s/step - loss: 0.0601 - ROC-AUC: 0.9968 - PR-AUC: 0.9964 - val_loss: 0.1145 - val_ROC-AUC: 0.9909 - val_PR-AUC: 0.9895\n",
      "Epoch 13/20\n",
      "698/698 [==============================] - ETA: 0s - loss: 0.0519 - ROC-AUC: 0.9975 - PR-AUC: 0.9971 \n",
      "Epoch 00013: val_PR-AUC did not improve from 0.99112\n",
      "698/698 [==============================] - 20602s 30s/step - loss: 0.0519 - ROC-AUC: 0.9975 - PR-AUC: 0.9971 - val_loss: 0.1491 - val_ROC-AUC: 0.9859 - val_PR-AUC: 0.9834\n",
      "Epoch 14/20\n",
      "698/698 [==============================] - ETA: 0s - loss: 0.0457 - ROC-AUC: 0.9978 - PR-AUC: 0.9975 \n",
      "Epoch 00014: val_PR-AUC did not improve from 0.99112\n",
      "\n",
      "Epoch 00014: ReduceLROnPlateau reducing learning rate to 1.0000000474974514e-05.\n",
      "698/698 [==============================] - 20606s 30s/step - loss: 0.0457 - ROC-AUC: 0.9978 - PR-AUC: 0.9975 - val_loss: 0.1408 - val_ROC-AUC: 0.9869 - val_PR-AUC: 0.9844\n",
      "Epoch 15/20\n",
      "698/698 [==============================] - ETA: 0s - loss: 0.0420 - ROC-AUC: 0.9981 - PR-AUC: 0.9978 \n",
      "Epoch 00015: val_PR-AUC did not improve from 0.99112\n",
      "698/698 [==============================] - 20472s 29s/step - loss: 0.0420 - ROC-AUC: 0.9981 - PR-AUC: 0.9978 - val_loss: 0.1309 - val_ROC-AUC: 0.9879 - val_PR-AUC: 0.9854\n",
      "Epoch 16/20\n",
      "698/698 [==============================] - ETA: 0s - loss: 0.0409 - ROC-AUC: 0.9981 - PR-AUC: 0.9978 \n",
      "Epoch 00016: val_PR-AUC did not improve from 0.99112\n",
      "698/698 [==============================] - 20557s 29s/step - loss: 0.0409 - ROC-AUC: 0.9981 - PR-AUC: 0.9978 - val_loss: 0.1288 - val_ROC-AUC: 0.9881 - val_PR-AUC: 0.9857\n",
      "Epoch 17/20\n",
      "698/698 [==============================] - ETA: 0s - loss: 0.0396 - ROC-AUC: 0.9982 - PR-AUC: 0.9979 \n",
      "Epoch 00017: val_PR-AUC did not improve from 0.99112\n",
      "\n",
      "Epoch 00017: ReduceLROnPlateau reducing learning rate to 1.0000000656873453e-06.\n",
      "698/698 [==============================] - 20575s 29s/step - loss: 0.0396 - ROC-AUC: 0.9982 - PR-AUC: 0.9979 - val_loss: 0.1329 - val_ROC-AUC: 0.9875 - val_PR-AUC: 0.9848\n",
      "Epoch 18/20\n",
      "698/698 [==============================] - ETA: 0s - loss: 0.0399 - ROC-AUC: 0.9982 - PR-AUC: 0.9979 \n",
      "Epoch 00018: val_PR-AUC did not improve from 0.99112\n",
      "698/698 [==============================] - 20376s 29s/step - loss: 0.0399 - ROC-AUC: 0.9982 - PR-AUC: 0.9979 - val_loss: 0.1329 - val_ROC-AUC: 0.9874 - val_PR-AUC: 0.9847\n",
      "Epoch 19/20\n",
      "698/698 [==============================] - ETA: 0s - loss: 0.0393 - ROC-AUC: 0.9982 - PR-AUC: 0.9979 \n",
      "Epoch 00019: val_PR-AUC did not improve from 0.99112\n",
      "698/698 [==============================] - 20305s 29s/step - loss: 0.0393 - ROC-AUC: 0.9982 - PR-AUC: 0.9979 - val_loss: 0.1328 - val_ROC-AUC: 0.9874 - val_PR-AUC: 0.9847\n",
      "Epoch 20/20\n",
      "698/698 [==============================] - ETA: 0s - loss: 0.0395 - ROC-AUC: 0.9982 - PR-AUC: 0.9979 \n",
      "Epoch 00020: val_PR-AUC did not improve from 0.99112\n",
      "\n",
      "Epoch 00020: ReduceLROnPlateau reducing learning rate to 1e-06.\n",
      "698/698 [==============================] - 20398s 29s/step - loss: 0.0395 - ROC-AUC: 0.9982 - PR-AUC: 0.9979 - val_loss: 0.1334 - val_ROC-AUC: 0.9873 - val_PR-AUC: 0.9846\n"
     ]
    }
   ],
   "source": [
    "save = ModelCheckpoint(\n",
    "    '/home/jupyter-chima/Bias/Emory_CXR/Binary_classes/Xception/Checkpoint/', \n",
    "    monitor=\"val_PR-AUC\", \n",
    "    save_best_only=True,\n",
    "    save_weights_only=True, \n",
    "    mode='max',\n",
    "    verbose=1\n",
    ")\n",
    "# stop = EarlyStopping(monitor='val_loss', mode='min', patience=6, restore_best_weights=True)\n",
    "scheduler = ReduceLROnPlateau(\n",
    "    monitor=\"val_loss\", \n",
    "    mode='min', \n",
    "    factor=0.1, \n",
    "    patience=3, \n",
    "    min_lr=1e-6, \n",
    "    verbose=1\n",
    ")\n",
    "logger = CSVLogger('/home/jupyter-chima/Bias/Emory_CXR/Binary_classes/Xception/training.log')\n",
    "history = model.fit(\n",
    "    train_batches, \n",
    "    epochs=EPOCHS, \n",
    "    validation_data=validate_batches, \n",
    "    verbose=1, \n",
    "    callbacks=[save, scheduler, logger]\n",
    ")"
   ]
  },
  {
   "cell_type": "code",
   "execution_count": 17,
   "metadata": {},
   "outputs": [],
   "source": [
    "model.save('/home/jupyter-chima/Bias/Emory_CXR/Binary_classes/Xception/Emory_CXR_binary_classes_Xception.h5')"
   ]
  },
  {
   "cell_type": "code",
   "execution_count": 18,
   "metadata": {},
   "outputs": [
    {
     "data": {
      "image/png": "[encoded data removed]",
      "text/plain": [
       "<Figure size 432x288 with 1 Axes>"
      ]
     },
     "metadata": {
      "needs_background": "light"
     },
     "output_type": "display_data"
    },
    {
     "data": {
      "image/png": "[encoded data removed]",
      "text/plain": [
       "<Figure size 432x288 with 1 Axes>"
      ]
     },
     "metadata": {
      "needs_background": "light"
     },
     "output_type": "display_data"
    },
    {
     "data": {
      "image/png": "[encoded data removed]",
      "text/plain": [
       "<Figure size 432x288 with 1 Axes>"
      ]
     },
     "metadata": {
      "needs_background": "light"
     },
     "output_type": "display_data"
    }
   ],
   "source": [
    "# summarize history for loss\n",
    "plt.plot(history.history['loss'])\n",
    "plt.plot(history.history['val_loss'])\n",
    "plt.title('model loss')\n",
    "plt.ylabel('loss')\n",
    "plt.xlabel('epoch')\n",
    "plt.legend(['train', 'valid'], loc='lower right')\n",
    "plt.show()\n",
    "    \n",
    "# summarize history for ROC auc\n",
    "plt.plot(history.history['ROC-AUC'])\n",
    "plt.plot(history.history['val_ROC-AUC'])\n",
    "plt.title('ROC model AUC')\n",
    "plt.ylabel('AUC')\n",
    "plt.xlabel('epoch')\n",
    "plt.legend(['train', 'valid'], loc='lower right')\n",
    "plt.show()\n",
    "\n",
    "# summarize history for ROC auc\n",
    "plt.plot(history.history['PR-AUC'])\n",
    "plt.plot(history.history['val_PR-AUC'])\n",
    "plt.title('PR model AUC')\n",
    "plt.ylabel('AUC')\n",
    "plt.xlabel('epoch')\n",
    "plt.legend(['train', 'valid'], loc='lower right')\n",
    "plt.show()"
   ]
  },
  {
   "cell_type": "code",
   "execution_count": 19,
   "metadata": {},
   "outputs": [
    {
     "name": "stdout",
     "output_type": "stream",
     "text": [
      "Found 11348 validated image filenames belonging to 2 classes.\n"
     ]
    }
   ],
   "source": [
    "test_batches=validate_gen.flow_from_dataframe(\n",
    "    test_df,\n",
    "    x_col=\"hiti_path\", \n",
    "    y_col=\"Race\", \n",
    "    class_mode=\"categorical\",\n",
    "    target_size=(IMAGE_HEIGHT, IMAGE_WIDTH),\n",
    "    shuffle=False,\n",
    "    batch_size=BATCH_SIZE, \n",
    "    dtype='float32'\n",
    ")"
   ]
  },
  {
   "cell_type": "code",
   "execution_count": 20,
   "metadata": {},
   "outputs": [],
   "source": [
    "predictions = model.predict(test_batches, len(test_batches.filenames)) "
   ]
  },
  {
   "cell_type": "code",
   "execution_count": 21,
   "metadata": {},
   "outputs": [],
   "source": [
    "y_hat = np.argmax(predictions, axis=1)\n",
    "y_hat= list(y_hat)"
   ]
  },
  {
   "cell_type": "code",
   "execution_count": 22,
   "metadata": {},
   "outputs": [
    {
     "name": "stdout",
     "output_type": "stream",
     "text": [
      "Confusion Matrix\n",
      "[[5739  328]\n",
      " [ 120 5161]]\n",
      "Classification Report\n",
      "                        precision    recall  f1-score   support\n",
      "\n",
      "BLACK/AFRICAN AMERICAN       0.98      0.95      0.96      6067\n",
      "                 WHITE       0.94      0.98      0.96      5281\n",
      "\n",
      "              accuracy                           0.96     11348\n",
      "             macro avg       0.96      0.96      0.96     11348\n",
      "          weighted avg       0.96      0.96      0.96     11348\n",
      "\n"
     ]
    }
   ],
   "source": [
    "# building the confusion matrix\n",
    "\n",
    "from sklearn.metrics import classification_report, confusion_matrix\n",
    "print('Confusion Matrix')\n",
    "print(confusion_matrix(test_batches.classes, y_hat))\n",
    "print('Classification Report')\n",
    "# batches are made in alphabetical order if shuffle is false\n",
    "print(classification_report(test_batches.classes, y_hat, target_names=class_names,  zero_division = 0)) "
   ]
  },
  {
   "cell_type": "code",
   "execution_count": null,
   "metadata": {},
   "outputs": [],
   "source": []
  }
 ],
 "metadata": {
  "kernelspec": {
   "display_name": "Python 3",
   "language": "python",
   "name": "python3"
  },
  "language_info": {
   "codemirror_mode": {
    "name": "ipython",
    "version": 3
   },
   "file_extension": ".py",
   "mimetype": "text/x-python",
   "name": "python",
   "nbconvert_exporter": "python",
   "pygments_lexer": "ipython3",
   "version": "3.7.3"
  }
 },
 "nbformat": 4,
 "nbformat_minor": 4
}
